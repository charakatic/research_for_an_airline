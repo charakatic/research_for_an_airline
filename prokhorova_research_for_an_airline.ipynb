{
 "cells": [
  {
   "cell_type": "markdown",
   "id": "6a872fa9",
   "metadata": {},
   "source": [
    "# Аналитика в авиакомпании\n",
    "\n",
    "Для российской авиакомпании, выполняющей внутренние пассажирские авиаперевозки, при помощи запросов SQL были выгружены таблицы, в которых содежатся сведения:\n",
    "\n",
    "•\tmodel — модели самолета\n",
    "\n",
    "•\tflights_amount — количество рейсов для каждой модели самолетов в сентябре 2018 года\n",
    "\n",
    "•\tcity — города\n",
    "\n",
    "•\taverage_flights — среднее количество рейсов, прибывающих в город city за день в августе 2018 года\n",
    "\n",
    "В данном исследовании необходимо выбрать топ-10 городов по количеству рейсов и выбрать популярные модели самолетов."
   ]
  },
  {
   "cell_type": "markdown",
   "id": "05672890",
   "metadata": {},
   "source": [
    "## Изучение данных из файла"
   ]
  },
  {
   "cell_type": "code",
   "execution_count": 1,
   "id": "56beb0dc",
   "metadata": {},
   "outputs": [],
   "source": [
    "# Загрузим библиотеки, которые понадобятся\n",
    "import pandas as pd\n",
    "import numpy as np\n",
    "import math\n",
    "import matplotlib.pyplot as plt \n",
    "import seaborn as sns \n",
    "from collections import Counter\n",
    "from nltk.stem import SnowballStemmer \n",
    "russian_stemmer = SnowballStemmer('russian')  \n",
    "import requests \n",
    "from bs4 import BeautifulSoup\n",
    "\n",
    "import warnings\n",
    "warnings.filterwarnings('ignore')"
   ]
  },
  {
   "cell_type": "code",
   "execution_count": 2,
   "id": "19e4f3ae",
   "metadata": {},
   "outputs": [
    {
     "data": {
      "text/html": [
       "<div>\n",
       "<style scoped>\n",
       "    .dataframe tbody tr th:only-of-type {\n",
       "        vertical-align: middle;\n",
       "    }\n",
       "\n",
       "    .dataframe tbody tr th {\n",
       "        vertical-align: top;\n",
       "    }\n",
       "\n",
       "    .dataframe thead th {\n",
       "        text-align: right;\n",
       "    }\n",
       "</style>\n",
       "<table border=\"1\" class=\"dataframe\">\n",
       "  <thead>\n",
       "    <tr style=\"text-align: right;\">\n",
       "      <th></th>\n",
       "      <th>model</th>\n",
       "      <th>flights_amount</th>\n",
       "    </tr>\n",
       "  </thead>\n",
       "  <tbody>\n",
       "    <tr>\n",
       "      <td>0</td>\n",
       "      <td>Airbus A319-100</td>\n",
       "      <td>607</td>\n",
       "    </tr>\n",
       "    <tr>\n",
       "      <td>1</td>\n",
       "      <td>Airbus A321-200</td>\n",
       "      <td>960</td>\n",
       "    </tr>\n",
       "    <tr>\n",
       "      <td>2</td>\n",
       "      <td>Boeing 737-300</td>\n",
       "      <td>630</td>\n",
       "    </tr>\n",
       "    <tr>\n",
       "      <td>3</td>\n",
       "      <td>Boeing 767-300</td>\n",
       "      <td>600</td>\n",
       "    </tr>\n",
       "    <tr>\n",
       "      <td>4</td>\n",
       "      <td>Boeing 777-300</td>\n",
       "      <td>300</td>\n",
       "    </tr>\n",
       "    <tr>\n",
       "      <td>5</td>\n",
       "      <td>Bombardier CRJ-200</td>\n",
       "      <td>4446</td>\n",
       "    </tr>\n",
       "    <tr>\n",
       "      <td>6</td>\n",
       "      <td>Cessna 208 Caravan</td>\n",
       "      <td>4557</td>\n",
       "    </tr>\n",
       "    <tr>\n",
       "      <td>7</td>\n",
       "      <td>Sukhoi SuperJet-100</td>\n",
       "      <td>4185</td>\n",
       "    </tr>\n",
       "  </tbody>\n",
       "</table>\n",
       "</div>"
      ],
      "text/plain": [
       "                 model  flights_amount\n",
       "0      Airbus A319-100             607\n",
       "1      Airbus A321-200             960\n",
       "2       Boeing 737-300             630\n",
       "3       Boeing 767-300             600\n",
       "4       Boeing 777-300             300\n",
       "5   Bombardier CRJ-200            4446\n",
       "6   Cessna 208 Caravan            4557\n",
       "7  Sukhoi SuperJet-100            4185"
      ]
     },
     "metadata": {},
     "output_type": "display_data"
    }
   ],
   "source": [
    "# Прочитаем файл csv и сохраним его\n",
    "try:\n",
    "    aircrafts = pd.read_csv('/datasets/query_1.csv')\n",
    "except:\n",
    "    aircrafts = pd.read_csv('query_1.csv')\n",
    "display(aircrafts.head(10))"
   ]
  },
  {
   "cell_type": "markdown",
   "id": "674ca08c",
   "metadata": {},
   "source": [
    "model — модель самолета\n",
    "\n",
    "flights_amount — количество рейсов для каждой модели самолетов model в сентябре 2018 года"
   ]
  },
  {
   "cell_type": "code",
   "execution_count": 3,
   "id": "4390fc95",
   "metadata": {},
   "outputs": [
    {
     "name": "stdout",
     "output_type": "stream",
     "text": [
      "<class 'pandas.core.frame.DataFrame'>\n",
      "RangeIndex: 8 entries, 0 to 7\n",
      "Data columns (total 2 columns):\n",
      "model             8 non-null object\n",
      "flights_amount    8 non-null int64\n",
      "dtypes: int64(1), object(1)\n",
      "memory usage: 256.0+ bytes\n"
     ]
    }
   ],
   "source": [
    "# Общая информация\n",
    "aircrafts.info()"
   ]
  },
  {
   "cell_type": "code",
   "execution_count": 4,
   "id": "ff969428",
   "metadata": {},
   "outputs": [
    {
     "data": {
      "text/plain": [
       "model             0\n",
       "flights_amount    0\n",
       "dtype: int64"
      ]
     },
     "execution_count": 4,
     "metadata": {},
     "output_type": "execute_result"
    }
   ],
   "source": [
    "# Количество нулевых строк\n",
    "aircrafts.isna().sum()"
   ]
  },
  {
   "cell_type": "markdown",
   "id": "5c33f514",
   "metadata": {},
   "source": [
    "Нулевых строк не обнаружено, тип данных подходит для исследований. Строк в таблице мало, визуально понятно, что дубликатов нет."
   ]
  },
  {
   "cell_type": "code",
   "execution_count": 5,
   "id": "7ad2beaa",
   "metadata": {},
   "outputs": [
    {
     "data": {
      "text/html": [
       "<div>\n",
       "<style scoped>\n",
       "    .dataframe tbody tr th:only-of-type {\n",
       "        vertical-align: middle;\n",
       "    }\n",
       "\n",
       "    .dataframe tbody tr th {\n",
       "        vertical-align: top;\n",
       "    }\n",
       "\n",
       "    .dataframe thead th {\n",
       "        text-align: right;\n",
       "    }\n",
       "</style>\n",
       "<table border=\"1\" class=\"dataframe\">\n",
       "  <thead>\n",
       "    <tr style=\"text-align: right;\">\n",
       "      <th></th>\n",
       "      <th>city</th>\n",
       "      <th>average_flights</th>\n",
       "    </tr>\n",
       "  </thead>\n",
       "  <tbody>\n",
       "    <tr>\n",
       "      <td>0</td>\n",
       "      <td>Абакан</td>\n",
       "      <td>3.870968</td>\n",
       "    </tr>\n",
       "    <tr>\n",
       "      <td>1</td>\n",
       "      <td>Анадырь</td>\n",
       "      <td>1.000000</td>\n",
       "    </tr>\n",
       "    <tr>\n",
       "      <td>2</td>\n",
       "      <td>Анапа</td>\n",
       "      <td>2.161290</td>\n",
       "    </tr>\n",
       "    <tr>\n",
       "      <td>3</td>\n",
       "      <td>Архангельск</td>\n",
       "      <td>5.354839</td>\n",
       "    </tr>\n",
       "    <tr>\n",
       "      <td>4</td>\n",
       "      <td>Астрахань</td>\n",
       "      <td>2.451613</td>\n",
       "    </tr>\n",
       "  </tbody>\n",
       "</table>\n",
       "</div>"
      ],
      "text/plain": [
       "          city  average_flights\n",
       "0       Абакан         3.870968\n",
       "1      Анадырь         1.000000\n",
       "2        Анапа         2.161290\n",
       "3  Архангельск         5.354839\n",
       "4    Астрахань         2.451613"
      ]
     },
     "metadata": {},
     "output_type": "display_data"
    }
   ],
   "source": [
    "# Прочитаем файл csv и сохраним его\n",
    "try:\n",
    "    city = pd.read_csv('/datasets/query_3.csv')\n",
    "except:\n",
    "    city = pd.read_csv('query_3.csv')\n",
    "display(city.head(5))"
   ]
  },
  {
   "cell_type": "markdown",
   "id": "84da8a8b",
   "metadata": {},
   "source": [
    "city — город\n",
    "\n",
    "average_flights — среднее количество рейсов, прибывающих в город city за день в августе 2018 года"
   ]
  },
  {
   "cell_type": "code",
   "execution_count": 6,
   "id": "2804acf4",
   "metadata": {},
   "outputs": [
    {
     "name": "stdout",
     "output_type": "stream",
     "text": [
      "<class 'pandas.core.frame.DataFrame'>\n",
      "RangeIndex: 101 entries, 0 to 100\n",
      "Data columns (total 2 columns):\n",
      "city               101 non-null object\n",
      "average_flights    101 non-null float64\n",
      "dtypes: float64(1), object(1)\n",
      "memory usage: 1.7+ KB\n"
     ]
    }
   ],
   "source": [
    "# Общая информация\n",
    "city.info()"
   ]
  },
  {
   "cell_type": "code",
   "execution_count": 7,
   "id": "15c94322",
   "metadata": {},
   "outputs": [
    {
     "data": {
      "text/plain": [
       "city               0\n",
       "average_flights    0\n",
       "dtype: int64"
      ]
     },
     "execution_count": 7,
     "metadata": {},
     "output_type": "execute_result"
    }
   ],
   "source": [
    "# Количество нулевых строк\n",
    "city.isna().sum()"
   ]
  },
  {
   "cell_type": "code",
   "execution_count": 8,
   "id": "782f1bb5",
   "metadata": {},
   "outputs": [
    {
     "name": "stdout",
     "output_type": "stream",
     "text": [
      "Количество дубликатов - 0\n"
     ]
    }
   ],
   "source": [
    "#Проверка на дубликаты\n",
    "print('Количество дубликатов -', city.duplicated().sum())"
   ]
  },
  {
   "cell_type": "markdown",
   "id": "7419e6f3",
   "metadata": {},
   "source": [
    "#### Вывод\n",
    "\n",
    "Пропусков и дубликатов в данных не обнаружно.\n",
    "\n",
    "Окрегление в average_flights можно поправить до десятых.\n",
    "В таблице aircrafts можно добавить столбец, группирующий модели Boeing и Airbus."
   ]
  },
  {
   "cell_type": "markdown",
   "id": "2a159973",
   "metadata": {},
   "source": [
    "## Предобработка и исследовательский анализ данных"
   ]
  },
  {
   "cell_type": "markdown",
   "id": "a908756a",
   "metadata": {},
   "source": [
    "Созадим таблицу, в которой модели Boeing и Airbus будуmт объединены в группы"
   ]
  },
  {
   "cell_type": "code",
   "execution_count": 9,
   "id": "bf86d70e",
   "metadata": {},
   "outputs": [],
   "source": [
    "# Возвращает  группу моделей по названию\n",
    "\n",
    "def model_group(model):\n",
    "    for i in model.split(): \n",
    "        stemmed_word = russian_stemmer.stem(i)\n",
    "        if stemmed_word == 'Boeing':\n",
    "            return \"Boeing\"\n",
    "        if stemmed_word == 'Airbus':\n",
    "            return \"Airbus\"\n",
    "        else:\n",
    "            return model"
   ]
  },
  {
   "cell_type": "code",
   "execution_count": 10,
   "id": "21ff0b02",
   "metadata": {},
   "outputs": [
    {
     "data": {
      "text/html": [
       "<div>\n",
       "<style scoped>\n",
       "    .dataframe tbody tr th:only-of-type {\n",
       "        vertical-align: middle;\n",
       "    }\n",
       "\n",
       "    .dataframe tbody tr th {\n",
       "        vertical-align: top;\n",
       "    }\n",
       "\n",
       "    .dataframe thead th {\n",
       "        text-align: right;\n",
       "    }\n",
       "</style>\n",
       "<table border=\"1\" class=\"dataframe\">\n",
       "  <thead>\n",
       "    <tr style=\"text-align: right;\">\n",
       "      <th></th>\n",
       "      <th>model</th>\n",
       "      <th>flights_amount</th>\n",
       "      <th>model_group</th>\n",
       "    </tr>\n",
       "  </thead>\n",
       "  <tbody>\n",
       "    <tr>\n",
       "      <td>0</td>\n",
       "      <td>Airbus A319-100</td>\n",
       "      <td>607</td>\n",
       "      <td>Airbus</td>\n",
       "    </tr>\n",
       "    <tr>\n",
       "      <td>1</td>\n",
       "      <td>Airbus A321-200</td>\n",
       "      <td>960</td>\n",
       "      <td>Airbus</td>\n",
       "    </tr>\n",
       "    <tr>\n",
       "      <td>2</td>\n",
       "      <td>Boeing 737-300</td>\n",
       "      <td>630</td>\n",
       "      <td>Boeing</td>\n",
       "    </tr>\n",
       "    <tr>\n",
       "      <td>3</td>\n",
       "      <td>Boeing 767-300</td>\n",
       "      <td>600</td>\n",
       "      <td>Boeing</td>\n",
       "    </tr>\n",
       "    <tr>\n",
       "      <td>4</td>\n",
       "      <td>Boeing 777-300</td>\n",
       "      <td>300</td>\n",
       "      <td>Boeing</td>\n",
       "    </tr>\n",
       "    <tr>\n",
       "      <td>5</td>\n",
       "      <td>Bombardier CRJ-200</td>\n",
       "      <td>4446</td>\n",
       "      <td>Bombardier CRJ-200</td>\n",
       "    </tr>\n",
       "    <tr>\n",
       "      <td>6</td>\n",
       "      <td>Cessna 208 Caravan</td>\n",
       "      <td>4557</td>\n",
       "      <td>Cessna 208 Caravan</td>\n",
       "    </tr>\n",
       "    <tr>\n",
       "      <td>7</td>\n",
       "      <td>Sukhoi SuperJet-100</td>\n",
       "      <td>4185</td>\n",
       "      <td>Sukhoi SuperJet-100</td>\n",
       "    </tr>\n",
       "  </tbody>\n",
       "</table>\n",
       "</div>"
      ],
      "text/plain": [
       "                 model  flights_amount          model_group\n",
       "0      Airbus A319-100             607               Airbus\n",
       "1      Airbus A321-200             960               Airbus\n",
       "2       Boeing 737-300             630               Boeing\n",
       "3       Boeing 767-300             600               Boeing\n",
       "4       Boeing 777-300             300               Boeing\n",
       "5   Bombardier CRJ-200            4446   Bombardier CRJ-200\n",
       "6   Cessna 208 Caravan            4557   Cessna 208 Caravan\n",
       "7  Sukhoi SuperJet-100            4185  Sukhoi SuperJet-100"
      ]
     },
     "execution_count": 10,
     "metadata": {},
     "output_type": "execute_result"
    }
   ],
   "source": [
    "# Применим функцию\n",
    "aircrafts['model_group'] = aircrafts['model'].apply(model_group)\n",
    "aircrafts"
   ]
  },
  {
   "cell_type": "code",
   "execution_count": 11,
   "id": "e558f8b5",
   "metadata": {},
   "outputs": [
    {
     "data": {
      "text/html": [
       "<div>\n",
       "<style scoped>\n",
       "    .dataframe tbody tr th:only-of-type {\n",
       "        vertical-align: middle;\n",
       "    }\n",
       "\n",
       "    .dataframe tbody tr th {\n",
       "        vertical-align: top;\n",
       "    }\n",
       "\n",
       "    .dataframe thead th {\n",
       "        text-align: right;\n",
       "    }\n",
       "</style>\n",
       "<table border=\"1\" class=\"dataframe\">\n",
       "  <thead>\n",
       "    <tr style=\"text-align: right;\">\n",
       "      <th></th>\n",
       "      <th>flights_amount</th>\n",
       "    </tr>\n",
       "    <tr>\n",
       "      <th>model_group</th>\n",
       "      <th></th>\n",
       "    </tr>\n",
       "  </thead>\n",
       "  <tbody>\n",
       "    <tr>\n",
       "      <td>Cessna 208 Caravan</td>\n",
       "      <td>4557</td>\n",
       "    </tr>\n",
       "    <tr>\n",
       "      <td>Bombardier CRJ-200</td>\n",
       "      <td>4446</td>\n",
       "    </tr>\n",
       "    <tr>\n",
       "      <td>Sukhoi SuperJet-100</td>\n",
       "      <td>4185</td>\n",
       "    </tr>\n",
       "    <tr>\n",
       "      <td>Airbus</td>\n",
       "      <td>1567</td>\n",
       "    </tr>\n",
       "    <tr>\n",
       "      <td>Boeing</td>\n",
       "      <td>1530</td>\n",
       "    </tr>\n",
       "  </tbody>\n",
       "</table>\n",
       "</div>"
      ],
      "text/plain": [
       "                     flights_amount\n",
       "model_group                        \n",
       "Cessna 208 Caravan             4557\n",
       "Bombardier CRJ-200             4446\n",
       "Sukhoi SuperJet-100            4185\n",
       "Airbus                         1567\n",
       "Boeing                         1530"
      ]
     },
     "execution_count": 11,
     "metadata": {},
     "output_type": "execute_result"
    }
   ],
   "source": [
    "# Таблица, суммирующая количество перелетов по группам марок самолетов \n",
    "aircrafts_piv = aircrafts.groupby('model_group').sum().sort_values('flights_amount', ascending=False)\n",
    "aircrafts_piv"
   ]
  },
  {
   "cell_type": "code",
   "execution_count": 12,
   "id": "cd108a70",
   "metadata": {},
   "outputs": [],
   "source": [
    "#Функция для графиков\n",
    "#Напишем функцию, строящую графики типа bar\n",
    "#датасет, название, ось х, ось у\n",
    "    \n",
    "def bar_plot(x_data, title=\"\", xl=\"\", yl=\"\" ):    \n",
    "    ax = x_data.plot.bar(rot=0, figsize = (15, 6), grid = True)\n",
    "    ax.set_title(title) #подписали график\n",
    "    plt.legend() #легенда\n",
    "    plt.xlabel(xl) #подписали ось х\n",
    "    plt.ylabel(yl) #подписали ось y\n",
    "    plt.show()"
   ]
  },
  {
   "cell_type": "code",
   "execution_count": 13,
   "id": "420ab758",
   "metadata": {},
   "outputs": [
    {
     "data": {
      "image/png": "[encoded data removed]",
      "text/plain": [
       "<Figure size 1080x432 with 1 Axes>"
      ]
     },
     "metadata": {
      "needs_background": "light"
     },
     "output_type": "display_data"
    }
   ],
   "source": [
    "#Построим график\n",
    "#датасет, название, ось х, ось у\n",
    "bar_plot(aircrafts_piv, 'Модели самолетов и количество рейсов в месяц', 'Модели самолетов', 'Количество рейсов')"
   ]
  },
  {
   "cell_type": "markdown",
   "id": "cc17a94a",
   "metadata": {},
   "source": [
    "В сентябре 2018 наибольшее количество рейсов выполняет бизнес-джет Cessna 208 Caravan, в нем всего 14 мест, вторым идет Bombardier CRJ-200\tс 50 местами, далее Sukhoi SuperJet-100 с 103 местами. Наиболее популярными оказываются модели небольших самолетов.\n",
    "Со значительным отрывом идут группы Airbus и Boeing, которые даже в сумме уступают Sukhoi SuperJet-100. \n",
    "Самолеты Airbus и Boeing более вместительны (от 150 мест) и служат для регулярных пассажирских авиаперевозок.\n",
    "\n",
    "Исследуем города и количество рейсов."
   ]
  },
  {
   "cell_type": "code",
   "execution_count": 14,
   "id": "c7c4b138",
   "metadata": {},
   "outputs": [
    {
     "data": {
      "text/html": [
       "<div>\n",
       "<style scoped>\n",
       "    .dataframe tbody tr th:only-of-type {\n",
       "        vertical-align: middle;\n",
       "    }\n",
       "\n",
       "    .dataframe tbody tr th {\n",
       "        vertical-align: top;\n",
       "    }\n",
       "\n",
       "    .dataframe thead th {\n",
       "        text-align: right;\n",
       "    }\n",
       "</style>\n",
       "<table border=\"1\" class=\"dataframe\">\n",
       "  <thead>\n",
       "    <tr style=\"text-align: right;\">\n",
       "      <th></th>\n",
       "      <th>city</th>\n",
       "      <th>average_flights</th>\n",
       "    </tr>\n",
       "  </thead>\n",
       "  <tbody>\n",
       "    <tr>\n",
       "      <td>43</td>\n",
       "      <td>Москва</td>\n",
       "      <td>129.8</td>\n",
       "    </tr>\n",
       "    <tr>\n",
       "      <td>70</td>\n",
       "      <td>Санкт-Петербург</td>\n",
       "      <td>31.2</td>\n",
       "    </tr>\n",
       "    <tr>\n",
       "      <td>54</td>\n",
       "      <td>Новосибирск</td>\n",
       "      <td>17.3</td>\n",
       "    </tr>\n",
       "    <tr>\n",
       "      <td>33</td>\n",
       "      <td>Красноярск</td>\n",
       "      <td>11.6</td>\n",
       "    </tr>\n",
       "    <tr>\n",
       "      <td>20</td>\n",
       "      <td>Екатеринбург</td>\n",
       "      <td>11.3</td>\n",
       "    </tr>\n",
       "    <tr>\n",
       "      <td>67</td>\n",
       "      <td>Ростов-на-Дону</td>\n",
       "      <td>10.2</td>\n",
       "    </tr>\n",
       "    <tr>\n",
       "      <td>63</td>\n",
       "      <td>Пермь</td>\n",
       "      <td>10.1</td>\n",
       "    </tr>\n",
       "    <tr>\n",
       "      <td>10</td>\n",
       "      <td>Брянск</td>\n",
       "      <td>10.0</td>\n",
       "    </tr>\n",
       "    <tr>\n",
       "      <td>74</td>\n",
       "      <td>Сочи</td>\n",
       "      <td>9.6</td>\n",
       "    </tr>\n",
       "    <tr>\n",
       "      <td>84</td>\n",
       "      <td>Ульяновск</td>\n",
       "      <td>9.6</td>\n",
       "    </tr>\n",
       "  </tbody>\n",
       "</table>\n",
       "</div>"
      ],
      "text/plain": [
       "               city  average_flights\n",
       "43           Москва            129.8\n",
       "70  Санкт-Петербург             31.2\n",
       "54      Новосибирск             17.3\n",
       "33       Красноярск             11.6\n",
       "20     Екатеринбург             11.3\n",
       "67   Ростов-на-Дону             10.2\n",
       "63            Пермь             10.1\n",
       "10           Брянск             10.0\n",
       "74             Сочи              9.6\n",
       "84        Ульяновск              9.6"
      ]
     },
     "execution_count": 14,
     "metadata": {},
     "output_type": "execute_result"
    }
   ],
   "source": [
    "# Выберем топ-10 городов по количеству рейсов\n",
    "pd.options.display.float_format = '{:.1f}'.format\n",
    "city = city.sort_values('average_flights', ascending=False)\n",
    "city.head(10)"
   ]
  },
  {
   "cell_type": "code",
   "execution_count": 15,
   "id": "0d1a41a7",
   "metadata": {},
   "outputs": [],
   "source": [
    "city_piv_all=city.sort_values(by='average_flights', ascending=False)"
   ]
  },
  {
   "cell_type": "code",
   "execution_count": 16,
   "id": "4364696a",
   "metadata": {},
   "outputs": [
    {
     "data": {
      "image/png": "[encoded data removed]",
      "text/plain": [
       "<Figure size 1296x576 with 1 Axes>"
      ]
     },
     "metadata": {
      "needs_background": "light"
     },
     "output_type": "display_data"
    }
   ],
   "source": [
    "#Построим график\n",
    "fig, ax = plt.subplots() \n",
    "ax.bar(city['city'], city['average_flights'])\n",
    "fig.set_figheight(8)  # высота\n",
    "fig.set_figwidth(18)  # ширина \n",
    "labels = city['city']\n",
    "ax.set_title('Города и количество рейсов в день') #подписали график\n",
    "plt.xticks(city['city'], labels, rotation='vertical')\n",
    "plt.xlabel('Города') #подписали ось х\n",
    "plt.ylabel('Количество рейсов') #подписали ось y\n",
    "plt.show()"
   ]
  },
  {
   "cell_type": "markdown",
   "id": "871b1024",
   "metadata": {},
   "source": [
    "По графику видно, что Москва существенно лидирует по кол-ву рейсов и намного опережает джругие города, имеем \"длинный хвост\". Посмотрим медианные значения количества полетов в день."
   ]
  },
  {
   "cell_type": "code",
   "execution_count": 17,
   "id": "8f904433",
   "metadata": {},
   "outputs": [
    {
     "name": "stdout",
     "output_type": "stream",
     "text": [
      "count   101.0\n",
      "mean      5.5\n",
      "std      13.1\n",
      "min       1.0\n",
      "25%       2.0\n",
      "50%       3.0\n",
      "75%       5.9\n",
      "max     129.8\n",
      "Name: average_flights, dtype: float64\n"
     ]
    }
   ],
   "source": [
    "#Опишем характеристики \n",
    "print(city['average_flights'].describe())"
   ]
  },
  {
   "cell_type": "code",
   "execution_count": 18,
   "id": "f1e4c835",
   "metadata": {},
   "outputs": [
    {
     "name": "stdout",
     "output_type": "stream",
     "text": [
      "count   100.0\n",
      "mean      4.3\n",
      "std       4.0\n",
      "min       1.0\n",
      "25%       2.0\n",
      "50%       3.0\n",
      "75%       5.5\n",
      "max      31.2\n",
      "Name: average_flights, dtype: float64\n"
     ]
    }
   ],
   "source": [
    "#Опишем характеристики без Москвы\n",
    "print(city.query('city != \"Москва\"')['average_flights'].describe())"
   ]
  },
  {
   "cell_type": "markdown",
   "id": "38edd6f7",
   "metadata": {},
   "source": [
    "У Москвы почти четверть суммы всех перелетов по России в день (примерно 130). На втором месте — Санкт-Петербург. \n",
    "Из-за кол-ва перелетов по Москве стандартное отклонение достаточно велико, остальные города существенно меньше загружены. Убрав Москву, сразу получили стандартное отклонение ниже — 4, видно, что по другим городам значение прилетов в день колеблется в основном от 2 до 6. Медианное значение перелетов в день — 3шт. \n",
    "\n",
    "В Москве население гораздо больше, чем в других городах, поэтому интереснее сравнить количество перелетов в день относительно миллиона жителей в разных городах. Для это потребуется дополнительное исследование, см ниже."
   ]
  },
  {
   "cell_type": "code",
   "execution_count": 19,
   "id": "e902c51a",
   "metadata": {
    "scrolled": true
   },
   "outputs": [
    {
     "data": {
      "text/html": [
       "<style  type=\"text/css\" >\n",
       "</style><table id=\"T_fc8c8fd0_0e51_11ec_b946_408d5cd1b120\" ><thead>    <tr>        <th class=\"blank level0\" ></th>        <th class=\"col_heading level0 col0\" >city</th>        <th class=\"col_heading level0 col1\" >average_flights</th>        <th class=\"col_heading level0 col2\" >average_flights_%</th>    </tr></thead><tbody>\n",
       "                <tr>\n",
       "                        <th id=\"T_fc8c8fd0_0e51_11ec_b946_408d5cd1b120level0_row0\" class=\"row_heading level0 row0\" >43</th>\n",
       "                        <td id=\"T_fc8c8fd0_0e51_11ec_b946_408d5cd1b120row0_col0\" class=\"data row0 col0\" >Москва</td>\n",
       "                        <td id=\"T_fc8c8fd0_0e51_11ec_b946_408d5cd1b120row0_col1\" class=\"data row0 col1\" >129.8</td>\n",
       "                        <td id=\"T_fc8c8fd0_0e51_11ec_b946_408d5cd1b120row0_col2\" class=\"data row0 col2\" >23.39%</td>\n",
       "            </tr>\n",
       "            <tr>\n",
       "                        <th id=\"T_fc8c8fd0_0e51_11ec_b946_408d5cd1b120level0_row1\" class=\"row_heading level0 row1\" >70</th>\n",
       "                        <td id=\"T_fc8c8fd0_0e51_11ec_b946_408d5cd1b120row1_col0\" class=\"data row1 col0\" >Санкт-Петербург</td>\n",
       "                        <td id=\"T_fc8c8fd0_0e51_11ec_b946_408d5cd1b120row1_col1\" class=\"data row1 col1\" >31.2</td>\n",
       "                        <td id=\"T_fc8c8fd0_0e51_11ec_b946_408d5cd1b120row1_col2\" class=\"data row1 col2\" >5.62%</td>\n",
       "            </tr>\n",
       "            <tr>\n",
       "                        <th id=\"T_fc8c8fd0_0e51_11ec_b946_408d5cd1b120level0_row2\" class=\"row_heading level0 row2\" >54</th>\n",
       "                        <td id=\"T_fc8c8fd0_0e51_11ec_b946_408d5cd1b120row2_col0\" class=\"data row2 col0\" >Новосибирск</td>\n",
       "                        <td id=\"T_fc8c8fd0_0e51_11ec_b946_408d5cd1b120row2_col1\" class=\"data row2 col1\" >17.3</td>\n",
       "                        <td id=\"T_fc8c8fd0_0e51_11ec_b946_408d5cd1b120row2_col2\" class=\"data row2 col2\" >3.12%</td>\n",
       "            </tr>\n",
       "            <tr>\n",
       "                        <th id=\"T_fc8c8fd0_0e51_11ec_b946_408d5cd1b120level0_row3\" class=\"row_heading level0 row3\" >33</th>\n",
       "                        <td id=\"T_fc8c8fd0_0e51_11ec_b946_408d5cd1b120row3_col0\" class=\"data row3 col0\" >Красноярск</td>\n",
       "                        <td id=\"T_fc8c8fd0_0e51_11ec_b946_408d5cd1b120row3_col1\" class=\"data row3 col1\" >11.6</td>\n",
       "                        <td id=\"T_fc8c8fd0_0e51_11ec_b946_408d5cd1b120row3_col2\" class=\"data row3 col2\" >2.09%</td>\n",
       "            </tr>\n",
       "            <tr>\n",
       "                        <th id=\"T_fc8c8fd0_0e51_11ec_b946_408d5cd1b120level0_row4\" class=\"row_heading level0 row4\" >20</th>\n",
       "                        <td id=\"T_fc8c8fd0_0e51_11ec_b946_408d5cd1b120row4_col0\" class=\"data row4 col0\" >Екатеринбург</td>\n",
       "                        <td id=\"T_fc8c8fd0_0e51_11ec_b946_408d5cd1b120row4_col1\" class=\"data row4 col1\" >11.3</td>\n",
       "                        <td id=\"T_fc8c8fd0_0e51_11ec_b946_408d5cd1b120row4_col2\" class=\"data row4 col2\" >2.04%</td>\n",
       "            </tr>\n",
       "            <tr>\n",
       "                        <th id=\"T_fc8c8fd0_0e51_11ec_b946_408d5cd1b120level0_row5\" class=\"row_heading level0 row5\" >67</th>\n",
       "                        <td id=\"T_fc8c8fd0_0e51_11ec_b946_408d5cd1b120row5_col0\" class=\"data row5 col0\" >Ростов-на-Дону</td>\n",
       "                        <td id=\"T_fc8c8fd0_0e51_11ec_b946_408d5cd1b120row5_col1\" class=\"data row5 col1\" >10.2</td>\n",
       "                        <td id=\"T_fc8c8fd0_0e51_11ec_b946_408d5cd1b120row5_col2\" class=\"data row5 col2\" >1.84%</td>\n",
       "            </tr>\n",
       "            <tr>\n",
       "                        <th id=\"T_fc8c8fd0_0e51_11ec_b946_408d5cd1b120level0_row6\" class=\"row_heading level0 row6\" >63</th>\n",
       "                        <td id=\"T_fc8c8fd0_0e51_11ec_b946_408d5cd1b120row6_col0\" class=\"data row6 col0\" >Пермь</td>\n",
       "                        <td id=\"T_fc8c8fd0_0e51_11ec_b946_408d5cd1b120row6_col1\" class=\"data row6 col1\" >10.1</td>\n",
       "                        <td id=\"T_fc8c8fd0_0e51_11ec_b946_408d5cd1b120row6_col2\" class=\"data row6 col2\" >1.83%</td>\n",
       "            </tr>\n",
       "            <tr>\n",
       "                        <th id=\"T_fc8c8fd0_0e51_11ec_b946_408d5cd1b120level0_row7\" class=\"row_heading level0 row7\" >10</th>\n",
       "                        <td id=\"T_fc8c8fd0_0e51_11ec_b946_408d5cd1b120row7_col0\" class=\"data row7 col0\" >Брянск</td>\n",
       "                        <td id=\"T_fc8c8fd0_0e51_11ec_b946_408d5cd1b120row7_col1\" class=\"data row7 col1\" >10.0</td>\n",
       "                        <td id=\"T_fc8c8fd0_0e51_11ec_b946_408d5cd1b120row7_col2\" class=\"data row7 col2\" >1.80%</td>\n",
       "            </tr>\n",
       "            <tr>\n",
       "                        <th id=\"T_fc8c8fd0_0e51_11ec_b946_408d5cd1b120level0_row8\" class=\"row_heading level0 row8\" >74</th>\n",
       "                        <td id=\"T_fc8c8fd0_0e51_11ec_b946_408d5cd1b120row8_col0\" class=\"data row8 col0\" >Сочи</td>\n",
       "                        <td id=\"T_fc8c8fd0_0e51_11ec_b946_408d5cd1b120row8_col1\" class=\"data row8 col1\" >9.6</td>\n",
       "                        <td id=\"T_fc8c8fd0_0e51_11ec_b946_408d5cd1b120row8_col2\" class=\"data row8 col2\" >1.73%</td>\n",
       "            </tr>\n",
       "            <tr>\n",
       "                        <th id=\"T_fc8c8fd0_0e51_11ec_b946_408d5cd1b120level0_row9\" class=\"row_heading level0 row9\" >84</th>\n",
       "                        <td id=\"T_fc8c8fd0_0e51_11ec_b946_408d5cd1b120row9_col0\" class=\"data row9 col0\" >Ульяновск</td>\n",
       "                        <td id=\"T_fc8c8fd0_0e51_11ec_b946_408d5cd1b120row9_col1\" class=\"data row9 col1\" >9.6</td>\n",
       "                        <td id=\"T_fc8c8fd0_0e51_11ec_b946_408d5cd1b120row9_col2\" class=\"data row9 col2\" >1.73%</td>\n",
       "            </tr>\n",
       "    </tbody></table>"
      ],
      "text/plain": [
       "<pandas.io.formats.style.Styler at 0x24a07fb8d08>"
      ]
     },
     "metadata": {},
     "output_type": "display_data"
    }
   ],
   "source": [
    "#чтобы понять, какое процентное отношение ко всем полетам\n",
    "#составляют полеты в основные 10 городов\n",
    "#поделим average_flights на общее кол-во полетов\n",
    "\n",
    "city['average_flights_%'] = city['average_flights']/(city['average_flights'].sum())\n",
    "city = city.sort_values('average_flights', ascending=False)\n",
    "display(city.head(10).style.format({('average_flights_%'):'{:.2%}', ('average_flights'):'{:.1f}'}))"
   ]
  },
  {
   "cell_type": "markdown",
   "id": "315a028a",
   "metadata": {},
   "source": [
    "В Москву прибывает почти четверть всех внутренних рейсов"
   ]
  },
  {
   "cell_type": "code",
   "execution_count": 20,
   "id": "0195397c",
   "metadata": {},
   "outputs": [],
   "source": [
    "# Выбираем топ-10 городов для графика\n",
    "city_piv=city.iloc[:10][['city', 'average_flights']]\n",
    "city_piv.set_index('city', inplace=True)"
   ]
  },
  {
   "cell_type": "code",
   "execution_count": 21,
   "id": "5097848d",
   "metadata": {},
   "outputs": [
    {
     "data": {
      "image/png": "[encoded data removed]",
      "text/plain": [
       "<Figure size 1080x432 with 1 Axes>"
      ]
     },
     "metadata": {
      "needs_background": "light"
     },
     "output_type": "display_data"
    }
   ],
   "source": [
    "#Построим график\n",
    "#датасет, название, ось х, ось у\n",
    "bar_plot(city_piv, 'Города и количество рейсов в день', 'Города', 'Количество рейсов')"
   ]
  },
  {
   "cell_type": "markdown",
   "id": "3c527b32",
   "metadata": {},
   "source": [
    "### Вывод\n",
    "\n",
    "В сентябре 2018 наибольшее количество рейсов выполняли бизнес-джеты Cessna 208 Caravan, Bombardier CRJ-200, Sukhoi SuperJet-100, опережая Airbus и Boeing. В сумме бизнес-джеты проводили в 4 раза больше перелетов, чем самолеты Airbus и Boeing, которые служат для регулярных пассажирских авиаперевозок.\n",
    "\n",
    "Исследования количество перелетов в день в августе 2018 показали, в среднем, в день в Москву прибывает наибольшее количестве рейсов, и это почти четверть всех рейсов в день по России. \n",
    "\n",
    "Медианное значение количества рейсов по городам - 3шт. По остальным городам (без Москвы) количество прилетов в день колеблется от 2 до 6."
   ]
  },
  {
   "cell_type": "markdown",
   "id": "a2da2ae2",
   "metadata": {},
   "source": [
    "## Парсинг, анализ данных по городам\n",
    "\n",
    "В Москве жителей больше, чем в других городах, поэтому сравним количество перелетов в день относительно миллиона жителей в разных городах. \n",
    "Для это проведем парсинг страницы в википедии со списком городов России с населением более 100 000 чел.\n",
    "\n",
    "https://ru.wikipedia.org/wiki/%D0%A1%D0%BF%D0%B8%D1%81%D0%BE%D0%BA_%D0%B3%D0%BE%D1%80%D0%BE%D0%B4%D0%BE%D0%B2_%D0%A0%D0%BE%D1%81%D1%81%D0%B8%D0%B8_%D1%81_%D0%BD%D0%B0%D1%81%D0%B5%D0%BB%D0%B5%D0%BD%D0%B8%D0%B5%D0%BC_%D0%B1%D0%BE%D0%BB%D0%B5%D0%B5_100_%D1%82%D1%8B%D1%81%D1%8F%D1%87_%D0%B6%D0%B8%D1%82%D0%B5%D0%BB%D0%B5%D0%B9"
   ]
  },
  {
   "cell_type": "code",
   "execution_count": 22,
   "id": "aa99aed1",
   "metadata": {},
   "outputs": [],
   "source": [
    "URL = 'https://ru.wikipedia.org/wiki/%D0%A1%D0%BF%D0%B8%D1%81%D0%BE%D0%BA_%D0%B3%D0%BE%D1%80%D0%BE%D0%B4%D0%BE%D0%B2_%D0%A0%D0%BE%D1%81%D1%81%D0%B8%D0%B8_%D1%81_%D0%BD%D0%B0%D1%81%D0%B5%D0%BB%D0%B5%D0%BD%D0%B8%D0%B5%D0%BC_%D0%B1%D0%BE%D0%BB%D0%B5%D0%B5_100_%D1%82%D1%8B%D1%81%D1%8F%D1%87_%D0%B6%D0%B8%D1%82%D0%B5%D0%BB%D0%B5%D0%B9'\n",
    "req = requests.get(URL) \n",
    "soup = BeautifulSoup(req.text, 'lxml') "
   ]
  },
  {
   "cell_type": "code",
   "execution_count": 23,
   "id": "84ccb429",
   "metadata": {},
   "outputs": [],
   "source": [
    "# применим метод find к тегу table\n",
    "# укажем атрибут первой таблицы: class ='wikitable sortable'\n",
    "table = soup.find('table',attrs={'class': 'wikitable sortable'})\n",
    "content=[]"
   ]
  },
  {
   "cell_type": "code",
   "execution_count": 33,
   "id": "e375a4a6",
   "metadata": {},
   "outputs": [],
   "source": [
    "heading_table = [] # Список, в котором будут храниться названия столбцов\n",
    "for row in table.find_all('th'): # Названия столбцов прячутся в элементах th, \n",
    "# поэтому будем искать все элементы th внутри table и пробегать по ним в цикле\n",
    "        heading_table.append(row.text) # Добавляем контент из тега th в список heading_table методом append()"
   ]
  },
  {
   "cell_type": "code",
   "execution_count": 25,
   "id": "a467cf6e",
   "metadata": {},
   "outputs": [],
   "source": [
    "heading_table = ['№1', '№2','Город', '1897', '1926', '1939', '1959', '1970', '1979', '1989', '2002', '2010', '2011', '2012', '2013', '2014', '2015', '2016', '2017', '2018', '2019', '2020', '2021\\n']"
   ]
  },
  {
   "cell_type": "code",
   "execution_count": 32,
   "id": "cd293f74",
   "metadata": {},
   "outputs": [],
   "source": [
    "content=[] # Список, в котором будут храниться данные из таблицы\n",
    "for row in table.find_all('tr'): \n",
    "# Каждая строка обрамляется тегом tr, необходимо пробежаться в цикле по всем строкам\n",
    "    if not row.find_all('th'): \n",
    "# Эта проверка необходима, чтобы пропустить первую строку таблицы с заголовками\n",
    "            content.append([element.text for element in row.find_all('td')])\n",
    "            # В каждой строке контент ячейки обрамляется тегами <td> </td>\n",
    "            # Необходимо пробежаться в цикле по всем элементам td, вычленить контент из ячеек и добавить его в список \n",
    "            # Затем добавить каждый из списков в список content "
   ]
  },
  {
   "cell_type": "code",
   "execution_count": 27,
   "id": "451313ec",
   "metadata": {},
   "outputs": [
    {
     "data": {
      "text/html": [
       "<div>\n",
       "<style scoped>\n",
       "    .dataframe tbody tr th:only-of-type {\n",
       "        vertical-align: middle;\n",
       "    }\n",
       "\n",
       "    .dataframe tbody tr th {\n",
       "        vertical-align: top;\n",
       "    }\n",
       "\n",
       "    .dataframe thead th {\n",
       "        text-align: right;\n",
       "    }\n",
       "</style>\n",
       "<table border=\"1\" class=\"dataframe\">\n",
       "  <thead>\n",
       "    <tr style=\"text-align: right;\">\n",
       "      <th></th>\n",
       "      <th>№1</th>\n",
       "      <th>№2</th>\n",
       "      <th>Город</th>\n",
       "      <th>1897</th>\n",
       "      <th>1926</th>\n",
       "      <th>1939</th>\n",
       "      <th>1959</th>\n",
       "      <th>1970</th>\n",
       "      <th>1979</th>\n",
       "      <th>1989</th>\n",
       "      <th>...</th>\n",
       "      <th>2012</th>\n",
       "      <th>2013</th>\n",
       "      <th>2014</th>\n",
       "      <th>2015</th>\n",
       "      <th>2016</th>\n",
       "      <th>2017</th>\n",
       "      <th>2018</th>\n",
       "      <th>2019</th>\n",
       "      <th>2020</th>\n",
       "      <th>2021\\n</th>\n",
       "    </tr>\n",
       "  </thead>\n",
       "  <tbody>\n",
       "    <tr>\n",
       "      <td>0</td>\n",
       "      <td>1\\n</td>\n",
       "      <td>2</td>\n",
       "      <td>Москва[18]</td>\n",
       "      <td>1039</td>\n",
       "      <td>2080</td>\n",
       "      <td>4609</td>\n",
       "      <td>6133</td>\n",
       "      <td>7194</td>\n",
       "      <td>8057</td>\n",
       "      <td>8878</td>\n",
       "      <td>...</td>\n",
       "      <td>11613</td>\n",
       "      <td>11980</td>\n",
       "      <td>12108</td>\n",
       "      <td>12198</td>\n",
       "      <td>12330</td>\n",
       "      <td>12381</td>\n",
       "      <td>12506</td>\n",
       "      <td>12615</td>\n",
       "      <td>12678</td>\n",
       "      <td>12655\\n</td>\n",
       "    </tr>\n",
       "    <tr>\n",
       "      <td>1</td>\n",
       "      <td>2\\n</td>\n",
       "      <td>1</td>\n",
       "      <td>Санкт-Петербург</td>\n",
       "      <td>1265</td>\n",
       "      <td>1737</td>\n",
       "      <td>3431</td>\n",
       "      <td>3390</td>\n",
       "      <td>4033</td>\n",
       "      <td>4569</td>\n",
       "      <td>4989</td>\n",
       "      <td>...</td>\n",
       "      <td>4953</td>\n",
       "      <td>5028</td>\n",
       "      <td>5132</td>\n",
       "      <td>5192</td>\n",
       "      <td>5226</td>\n",
       "      <td>5282</td>\n",
       "      <td>5352</td>\n",
       "      <td>5384</td>\n",
       "      <td>5398</td>\n",
       "      <td>5384\\n</td>\n",
       "    </tr>\n",
       "    <tr>\n",
       "      <td>2</td>\n",
       "      <td>3\\n</td>\n",
       "      <td></td>\n",
       "      <td>Новосибирск</td>\n",
       "      <td>8</td>\n",
       "      <td>120</td>\n",
       "      <td>404</td>\n",
       "      <td>885</td>\n",
       "      <td>1161</td>\n",
       "      <td>1309</td>\n",
       "      <td>1420</td>\n",
       "      <td>...</td>\n",
       "      <td>1499</td>\n",
       "      <td>1524</td>\n",
       "      <td>1548</td>\n",
       "      <td>1567</td>\n",
       "      <td>1584</td>\n",
       "      <td>1603</td>\n",
       "      <td>1613</td>\n",
       "      <td>1618</td>\n",
       "      <td>1626</td>\n",
       "      <td>1620\\n</td>\n",
       "    </tr>\n",
       "    <tr>\n",
       "      <td>3</td>\n",
       "      <td>4\\n</td>\n",
       "      <td>35</td>\n",
       "      <td>Екатеринбург</td>\n",
       "      <td>43</td>\n",
       "      <td>140</td>\n",
       "      <td>423</td>\n",
       "      <td>779</td>\n",
       "      <td>1025</td>\n",
       "      <td>1210</td>\n",
       "      <td>1296</td>\n",
       "      <td>...</td>\n",
       "      <td>1378</td>\n",
       "      <td>1396</td>\n",
       "      <td>1412</td>\n",
       "      <td>1428</td>\n",
       "      <td>1444</td>\n",
       "      <td>1456</td>\n",
       "      <td>1469</td>\n",
       "      <td>1483</td>\n",
       "      <td>1494</td>\n",
       "      <td>1495\\n</td>\n",
       "    </tr>\n",
       "    <tr>\n",
       "      <td>4</td>\n",
       "      <td>5\\n</td>\n",
       "      <td>4</td>\n",
       "      <td>Казань</td>\n",
       "      <td>130</td>\n",
       "      <td>179</td>\n",
       "      <td>406</td>\n",
       "      <td>667</td>\n",
       "      <td>869</td>\n",
       "      <td>989</td>\n",
       "      <td>1085</td>\n",
       "      <td>...</td>\n",
       "      <td>1161</td>\n",
       "      <td>1176</td>\n",
       "      <td>1191</td>\n",
       "      <td>1206</td>\n",
       "      <td>1217</td>\n",
       "      <td>1232</td>\n",
       "      <td>1244</td>\n",
       "      <td>1252</td>\n",
       "      <td>1257</td>\n",
       "      <td>1257\\n</td>\n",
       "    </tr>\n",
       "    <tr>\n",
       "      <td>...</td>\n",
       "      <td>...</td>\n",
       "      <td>...</td>\n",
       "      <td>...</td>\n",
       "      <td>...</td>\n",
       "      <td>...</td>\n",
       "      <td>...</td>\n",
       "      <td>...</td>\n",
       "      <td>...</td>\n",
       "      <td>...</td>\n",
       "      <td>...</td>\n",
       "      <td>...</td>\n",
       "      <td>...</td>\n",
       "      <td>...</td>\n",
       "      <td>...</td>\n",
       "      <td>...</td>\n",
       "      <td>...</td>\n",
       "      <td>...</td>\n",
       "      <td>...</td>\n",
       "      <td>...</td>\n",
       "      <td>...</td>\n",
       "      <td>...</td>\n",
       "    </tr>\n",
       "    <tr>\n",
       "      <td>166</td>\n",
       "      <td>167\\n</td>\n",
       "      <td></td>\n",
       "      <td>Ханты-Мансийск</td>\n",
       "      <td>—</td>\n",
       "      <td>—</td>\n",
       "      <td>7</td>\n",
       "      <td>21</td>\n",
       "      <td>25</td>\n",
       "      <td>28</td>\n",
       "      <td>34</td>\n",
       "      <td>...</td>\n",
       "      <td>85</td>\n",
       "      <td>91</td>\n",
       "      <td>93</td>\n",
       "      <td>95</td>\n",
       "      <td>97</td>\n",
       "      <td>99</td>\n",
       "      <td>98</td>\n",
       "      <td>99</td>\n",
       "      <td>101</td>\n",
       "      <td>103\\n</td>\n",
       "    </tr>\n",
       "    <tr>\n",
       "      <td>167</td>\n",
       "      <td>168\\n</td>\n",
       "      <td>136</td>\n",
       "      <td>Ногинск</td>\n",
       "      <td>11</td>\n",
       "      <td>39</td>\n",
       "      <td>81</td>\n",
       "      <td>95</td>\n",
       "      <td>104</td>\n",
       "      <td>119</td>\n",
       "      <td>123</td>\n",
       "      <td>...</td>\n",
       "      <td>102</td>\n",
       "      <td>102</td>\n",
       "      <td>102</td>\n",
       "      <td>102</td>\n",
       "      <td>102</td>\n",
       "      <td>102</td>\n",
       "      <td>103</td>\n",
       "      <td>102</td>\n",
       "      <td>104</td>\n",
       "      <td>103\\n</td>\n",
       "    </tr>\n",
       "    <tr>\n",
       "      <td>168</td>\n",
       "      <td>169\\n</td>\n",
       "      <td>30</td>\n",
       "      <td>Елец</td>\n",
       "      <td>47</td>\n",
       "      <td>43</td>\n",
       "      <td>51</td>\n",
       "      <td>78</td>\n",
       "      <td>101</td>\n",
       "      <td>111</td>\n",
       "      <td>120</td>\n",
       "      <td>...</td>\n",
       "      <td>108</td>\n",
       "      <td>107</td>\n",
       "      <td>106</td>\n",
       "      <td>106</td>\n",
       "      <td>105</td>\n",
       "      <td>105</td>\n",
       "      <td>104</td>\n",
       "      <td>103</td>\n",
       "      <td>102</td>\n",
       "      <td>101\\n</td>\n",
       "    </tr>\n",
       "    <tr>\n",
       "      <td>169</td>\n",
       "      <td>170\\n</td>\n",
       "      <td></td>\n",
       "      <td>Железногорск</td>\n",
       "      <td>—</td>\n",
       "      <td>—</td>\n",
       "      <td>—</td>\n",
       "      <td>—</td>\n",
       "      <td>31</td>\n",
       "      <td>65</td>\n",
       "      <td>85</td>\n",
       "      <td>...</td>\n",
       "      <td>96</td>\n",
       "      <td>97</td>\n",
       "      <td>98</td>\n",
       "      <td>99</td>\n",
       "      <td>100</td>\n",
       "      <td>101</td>\n",
       "      <td>101</td>\n",
       "      <td>100</td>\n",
       "      <td>100</td>\n",
       "      <td>101\\n</td>\n",
       "    </tr>\n",
       "    <tr>\n",
       "      <td>170</td>\n",
       "      <td>171\\n</td>\n",
       "      <td></td>\n",
       "      <td>Зеленодольск</td>\n",
       "      <td>—</td>\n",
       "      <td>—</td>\n",
       "      <td>30</td>\n",
       "      <td>60</td>\n",
       "      <td>77</td>\n",
       "      <td>85</td>\n",
       "      <td>94</td>\n",
       "      <td>...</td>\n",
       "      <td>98</td>\n",
       "      <td>98</td>\n",
       "      <td>98</td>\n",
       "      <td>98</td>\n",
       "      <td>99</td>\n",
       "      <td>99</td>\n",
       "      <td>99</td>\n",
       "      <td>100</td>\n",
       "      <td>100</td>\n",
       "      <td>100\\n</td>\n",
       "    </tr>\n",
       "  </tbody>\n",
       "</table>\n",
       "<p>171 rows × 23 columns</p>\n",
       "</div>"
      ],
      "text/plain": [
       "        №1   №2            Город  1897  1926  1939  1959  1970  1979  1989  \\\n",
       "0      1\\n    2       Москва[18]  1039  2080  4609  6133  7194  8057  8878   \n",
       "1      2\\n    1  Санкт-Петербург  1265  1737  3431  3390  4033  4569  4989   \n",
       "2      3\\n           Новосибирск     8   120   404   885  1161  1309  1420   \n",
       "3      4\\n   35     Екатеринбург    43   140   423   779  1025  1210  1296   \n",
       "4      5\\n    4           Казань   130   179   406   667   869   989  1085   \n",
       "..     ...  ...              ...   ...   ...   ...   ...   ...   ...   ...   \n",
       "166  167\\n        Ханты-Мансийск     —     —     7    21    25    28    34   \n",
       "167  168\\n  136          Ногинск    11    39    81    95   104   119   123   \n",
       "168  169\\n   30             Елец    47    43    51    78   101   111   120   \n",
       "169  170\\n          Железногорск     —     —     —     —    31    65    85   \n",
       "170  171\\n          Зеленодольск     —     —    30    60    77    85    94   \n",
       "\n",
       "     ...   2012   2013   2014   2015   2016   2017   2018   2019   2020  \\\n",
       "0    ...  11613  11980  12108  12198  12330  12381  12506  12615  12678   \n",
       "1    ...   4953   5028   5132   5192   5226   5282   5352   5384   5398   \n",
       "2    ...   1499   1524   1548   1567   1584   1603   1613   1618   1626   \n",
       "3    ...   1378   1396   1412   1428   1444   1456   1469   1483   1494   \n",
       "4    ...   1161   1176   1191   1206   1217   1232   1244   1252   1257   \n",
       "..   ...    ...    ...    ...    ...    ...    ...    ...    ...    ...   \n",
       "166  ...     85     91     93     95     97     99     98     99    101   \n",
       "167  ...    102    102    102    102    102    102    103    102    104   \n",
       "168  ...    108    107    106    106    105    105    104    103    102   \n",
       "169  ...     96     97     98     99    100    101    101    100    100   \n",
       "170  ...     98     98     98     98     99     99     99    100    100   \n",
       "\n",
       "      2021\\n  \n",
       "0    12655\\n  \n",
       "1     5384\\n  \n",
       "2     1620\\n  \n",
       "3     1495\\n  \n",
       "4     1257\\n  \n",
       "..       ...  \n",
       "166    103\\n  \n",
       "167    103\\n  \n",
       "168    101\\n  \n",
       "169    101\\n  \n",
       "170    100\\n  \n",
       "\n",
       "[171 rows x 23 columns]"
      ]
     },
     "metadata": {},
     "output_type": "display_data"
    }
   ],
   "source": [
    "city_wiki = pd.DataFrame(content, columns=heading_table) \n",
    "# в качестве данных передаем двумерный список content, а в качестве заголовков - heading_table\n",
    "display(city_wiki) "
   ]
  },
  {
   "cell_type": "code",
   "execution_count": 28,
   "id": "45876c08",
   "metadata": {},
   "outputs": [
    {
     "data": {
      "text/html": [
       "<div>\n",
       "<style scoped>\n",
       "    .dataframe tbody tr th:only-of-type {\n",
       "        vertical-align: middle;\n",
       "    }\n",
       "\n",
       "    .dataframe tbody tr th {\n",
       "        vertical-align: top;\n",
       "    }\n",
       "\n",
       "    .dataframe thead th {\n",
       "        text-align: right;\n",
       "    }\n",
       "</style>\n",
       "<table border=\"1\" class=\"dataframe\">\n",
       "  <thead>\n",
       "    <tr style=\"text-align: right;\">\n",
       "      <th></th>\n",
       "      <th>city</th>\n",
       "      <th>population_2018</th>\n",
       "    </tr>\n",
       "  </thead>\n",
       "  <tbody>\n",
       "    <tr>\n",
       "      <td>0</td>\n",
       "      <td>Москва</td>\n",
       "      <td>12506</td>\n",
       "    </tr>\n",
       "    <tr>\n",
       "      <td>1</td>\n",
       "      <td>Санкт-Петербург</td>\n",
       "      <td>5352</td>\n",
       "    </tr>\n",
       "    <tr>\n",
       "      <td>2</td>\n",
       "      <td>Новосибирск</td>\n",
       "      <td>1613</td>\n",
       "    </tr>\n",
       "    <tr>\n",
       "      <td>3</td>\n",
       "      <td>Екатеринбург</td>\n",
       "      <td>1469</td>\n",
       "    </tr>\n",
       "    <tr>\n",
       "      <td>4</td>\n",
       "      <td>Казань</td>\n",
       "      <td>1244</td>\n",
       "    </tr>\n",
       "    <tr>\n",
       "      <td>...</td>\n",
       "      <td>...</td>\n",
       "      <td>...</td>\n",
       "    </tr>\n",
       "    <tr>\n",
       "      <td>166</td>\n",
       "      <td>Ханты-Мансийск</td>\n",
       "      <td>98</td>\n",
       "    </tr>\n",
       "    <tr>\n",
       "      <td>167</td>\n",
       "      <td>Ногинск</td>\n",
       "      <td>103</td>\n",
       "    </tr>\n",
       "    <tr>\n",
       "      <td>168</td>\n",
       "      <td>Елец</td>\n",
       "      <td>104</td>\n",
       "    </tr>\n",
       "    <tr>\n",
       "      <td>169</td>\n",
       "      <td>Железногорск</td>\n",
       "      <td>101</td>\n",
       "    </tr>\n",
       "    <tr>\n",
       "      <td>170</td>\n",
       "      <td>Зеленодольск</td>\n",
       "      <td>99</td>\n",
       "    </tr>\n",
       "  </tbody>\n",
       "</table>\n",
       "<p>171 rows × 2 columns</p>\n",
       "</div>"
      ],
      "text/plain": [
       "                city population_2018\n",
       "0             Москва           12506\n",
       "1    Санкт-Петербург            5352\n",
       "2        Новосибирск            1613\n",
       "3       Екатеринбург            1469\n",
       "4             Казань            1244\n",
       "..               ...             ...\n",
       "166   Ханты-Мансийск              98\n",
       "167          Ногинск             103\n",
       "168             Елец             104\n",
       "169     Железногорск             101\n",
       "170     Зеленодольск              99\n",
       "\n",
       "[171 rows x 2 columns]"
      ]
     },
     "execution_count": 28,
     "metadata": {},
     "output_type": "execute_result"
    }
   ],
   "source": [
    "# Нам потребуются данные за 2018 год по городам\n",
    "city_wiki_end = city_wiki[['Город', '2018']]\n",
    "# Переименуем столбцы\n",
    "city_wiki_end.columns = ['city', 'population_2018']\n",
    "city_wiki_end.loc[0, 'city'] = 'Москва'\n",
    "city_wiki_end"
   ]
  },
  {
   "cell_type": "code",
   "execution_count": 29,
   "id": "6924bbdc",
   "metadata": {},
   "outputs": [
    {
     "data": {
      "text/html": [
       "<div>\n",
       "<style scoped>\n",
       "    .dataframe tbody tr th:only-of-type {\n",
       "        vertical-align: middle;\n",
       "    }\n",
       "\n",
       "    .dataframe tbody tr th {\n",
       "        vertical-align: top;\n",
       "    }\n",
       "\n",
       "    .dataframe thead th {\n",
       "        text-align: right;\n",
       "    }\n",
       "</style>\n",
       "<table border=\"1\" class=\"dataframe\">\n",
       "  <thead>\n",
       "    <tr style=\"text-align: right;\">\n",
       "      <th></th>\n",
       "      <th>city</th>\n",
       "      <th>average_flights</th>\n",
       "      <th>population_2018_mln</th>\n",
       "    </tr>\n",
       "  </thead>\n",
       "  <tbody>\n",
       "    <tr>\n",
       "      <td>0</td>\n",
       "      <td>Москва</td>\n",
       "      <td>129.8</td>\n",
       "      <td>12.5</td>\n",
       "    </tr>\n",
       "    <tr>\n",
       "      <td>1</td>\n",
       "      <td>Санкт-Петербург</td>\n",
       "      <td>31.2</td>\n",
       "      <td>5.4</td>\n",
       "    </tr>\n",
       "    <tr>\n",
       "      <td>2</td>\n",
       "      <td>Новосибирск</td>\n",
       "      <td>17.3</td>\n",
       "      <td>1.6</td>\n",
       "    </tr>\n",
       "    <tr>\n",
       "      <td>3</td>\n",
       "      <td>Красноярск</td>\n",
       "      <td>11.6</td>\n",
       "      <td>1.1</td>\n",
       "    </tr>\n",
       "    <tr>\n",
       "      <td>4</td>\n",
       "      <td>Екатеринбург</td>\n",
       "      <td>11.3</td>\n",
       "      <td>1.5</td>\n",
       "    </tr>\n",
       "    <tr>\n",
       "      <td>...</td>\n",
       "      <td>...</td>\n",
       "      <td>...</td>\n",
       "      <td>...</td>\n",
       "    </tr>\n",
       "    <tr>\n",
       "      <td>71</td>\n",
       "      <td>Иваново</td>\n",
       "      <td>1.0</td>\n",
       "      <td>0.4</td>\n",
       "    </tr>\n",
       "    <tr>\n",
       "      <td>72</td>\n",
       "      <td>Ижевск</td>\n",
       "      <td>1.0</td>\n",
       "      <td>0.6</td>\n",
       "    </tr>\n",
       "    <tr>\n",
       "      <td>73</td>\n",
       "      <td>Петропавловск-Камчатский</td>\n",
       "      <td>1.0</td>\n",
       "      <td>0.2</td>\n",
       "    </tr>\n",
       "    <tr>\n",
       "      <td>74</td>\n",
       "      <td>Комсомольск-на-Амуре</td>\n",
       "      <td>1.0</td>\n",
       "      <td>0.2</td>\n",
       "    </tr>\n",
       "    <tr>\n",
       "      <td>75</td>\n",
       "      <td>Нефтеюганск</td>\n",
       "      <td>1.0</td>\n",
       "      <td>0.1</td>\n",
       "    </tr>\n",
       "  </tbody>\n",
       "</table>\n",
       "<p>76 rows × 3 columns</p>\n",
       "</div>"
      ],
      "text/plain": [
       "                        city  average_flights  population_2018_mln\n",
       "0                     Москва            129.8                 12.5\n",
       "1            Санкт-Петербург             31.2                  5.4\n",
       "2                Новосибирск             17.3                  1.6\n",
       "3                 Красноярск             11.6                  1.1\n",
       "4               Екатеринбург             11.3                  1.5\n",
       "..                       ...              ...                  ...\n",
       "71                   Иваново              1.0                  0.4\n",
       "72                    Ижевск              1.0                  0.6\n",
       "73  Петропавловск-Камчатский              1.0                  0.2\n",
       "74      Комсомольск-на-Амуре              1.0                  0.2\n",
       "75               Нефтеюганск              1.0                  0.1\n",
       "\n",
       "[76 rows x 3 columns]"
      ]
     },
     "execution_count": 29,
     "metadata": {},
     "output_type": "execute_result"
    }
   ],
   "source": [
    "# Объединим полученную таблицу с таблицей city по городам\n",
    "city_end=city.merge(city_wiki_end, on='city', how='inner')\n",
    "city_end['population_2018_mln'] = city_end['population_2018'].astype(int)/1000\n",
    "city_end = city_end[['city', 'average_flights', 'population_2018_mln']]\n",
    "city_end"
   ]
  },
  {
   "cell_type": "code",
   "execution_count": 30,
   "id": "acc32362",
   "metadata": {},
   "outputs": [
    {
     "name": "stdout",
     "output_type": "stream",
     "text": [
      "Количество прилетов в день на 1 млн человек населения\n"
     ]
    },
    {
     "data": {
      "text/html": [
       "<div>\n",
       "<style scoped>\n",
       "    .dataframe tbody tr th:only-of-type {\n",
       "        vertical-align: middle;\n",
       "    }\n",
       "\n",
       "    .dataframe tbody tr th {\n",
       "        vertical-align: top;\n",
       "    }\n",
       "\n",
       "    .dataframe thead th {\n",
       "        text-align: right;\n",
       "    }\n",
       "</style>\n",
       "<table border=\"1\" class=\"dataframe\">\n",
       "  <thead>\n",
       "    <tr style=\"text-align: right;\">\n",
       "      <th></th>\n",
       "      <th>city</th>\n",
       "      <th>flights_per_mln</th>\n",
       "    </tr>\n",
       "  </thead>\n",
       "  <tbody>\n",
       "    <tr>\n",
       "      <td>11</td>\n",
       "      <td>Ханты-Мансийск</td>\n",
       "      <td>85.9</td>\n",
       "    </tr>\n",
       "    <tr>\n",
       "      <td>12</td>\n",
       "      <td>Новый Уренгой</td>\n",
       "      <td>72.1</td>\n",
       "    </tr>\n",
       "    <tr>\n",
       "      <td>28</td>\n",
       "      <td>Элиста</td>\n",
       "      <td>47.3</td>\n",
       "    </tr>\n",
       "    <tr>\n",
       "      <td>44</td>\n",
       "      <td>Ноябрьск</td>\n",
       "      <td>28.0</td>\n",
       "    </tr>\n",
       "    <tr>\n",
       "      <td>7</td>\n",
       "      <td>Брянск</td>\n",
       "      <td>24.6</td>\n",
       "    </tr>\n",
       "    <tr>\n",
       "      <td>...</td>\n",
       "      <td>...</td>\n",
       "      <td>...</td>\n",
       "    </tr>\n",
       "    <tr>\n",
       "      <td>66</td>\n",
       "      <td>Липецк</td>\n",
       "      <td>2.5</td>\n",
       "    </tr>\n",
       "    <tr>\n",
       "      <td>71</td>\n",
       "      <td>Иваново</td>\n",
       "      <td>2.5</td>\n",
       "    </tr>\n",
       "    <tr>\n",
       "      <td>65</td>\n",
       "      <td>Ярославль</td>\n",
       "      <td>2.2</td>\n",
       "    </tr>\n",
       "    <tr>\n",
       "      <td>59</td>\n",
       "      <td>Воронеж</td>\n",
       "      <td>1.9</td>\n",
       "    </tr>\n",
       "    <tr>\n",
       "      <td>72</td>\n",
       "      <td>Ижевск</td>\n",
       "      <td>1.5</td>\n",
       "    </tr>\n",
       "  </tbody>\n",
       "</table>\n",
       "<p>76 rows × 2 columns</p>\n",
       "</div>"
      ],
      "text/plain": [
       "              city  flights_per_mln\n",
       "11  Ханты-Мансийск             85.9\n",
       "12   Новый Уренгой             72.1\n",
       "28          Элиста             47.3\n",
       "44        Ноябрьск             28.0\n",
       "7           Брянск             24.6\n",
       "..             ...              ...\n",
       "66          Липецк              2.5\n",
       "71         Иваново              2.5\n",
       "65       Ярославль              2.2\n",
       "59         Воронеж              1.9\n",
       "72          Ижевск              1.5\n",
       "\n",
       "[76 rows x 2 columns]"
      ]
     },
     "execution_count": 30,
     "metadata": {},
     "output_type": "execute_result"
    }
   ],
   "source": [
    "# Создадим столбец flights_per_mln, который показывает количество прилетов в день на 1 млн человек населения\n",
    "city_end['flights_per_mln'] = city_end['average_flights'] /city_end['population_2018_mln'] \n",
    "city_end = city_end.sort_values(by ='flights_per_mln', ascending = False)\n",
    "print('Количество прилетов в день на 1 млн человек населения')\n",
    "city_end[['city' , 'flights_per_mln']]"
   ]
  },
  {
   "cell_type": "markdown",
   "id": "1ed07c42",
   "metadata": {},
   "source": [
    "Оказывается, что в среднем, наибольшее количество рейсов за день в августе 2018 года относительно 1млн человек прибывает в Ханты-Мансийск, а наименьшее - в Ижевск. Если рассматривать только города-миллионники, то результаты будут следующие:"
   ]
  },
  {
   "cell_type": "code",
   "execution_count": 31,
   "id": "879fe551",
   "metadata": {},
   "outputs": [
    {
     "name": "stdout",
     "output_type": "stream",
     "text": [
      "Количество прилетов в день на 1 млн человек населения городов-миллионников\n"
     ]
    },
    {
     "data": {
      "text/html": [
       "<div>\n",
       "<style scoped>\n",
       "    .dataframe tbody tr th:only-of-type {\n",
       "        vertical-align: middle;\n",
       "    }\n",
       "\n",
       "    .dataframe tbody tr th {\n",
       "        vertical-align: top;\n",
       "    }\n",
       "\n",
       "    .dataframe thead th {\n",
       "        text-align: right;\n",
       "    }\n",
       "</style>\n",
       "<table border=\"1\" class=\"dataframe\">\n",
       "  <thead>\n",
       "    <tr style=\"text-align: right;\">\n",
       "      <th></th>\n",
       "      <th>city</th>\n",
       "      <th>flights_per_mln</th>\n",
       "    </tr>\n",
       "  </thead>\n",
       "  <tbody>\n",
       "    <tr>\n",
       "      <td>2</td>\n",
       "      <td>Новосибирск</td>\n",
       "      <td>10.7</td>\n",
       "    </tr>\n",
       "    <tr>\n",
       "      <td>3</td>\n",
       "      <td>Красноярск</td>\n",
       "      <td>10.6</td>\n",
       "    </tr>\n",
       "    <tr>\n",
       "      <td>0</td>\n",
       "      <td>Москва</td>\n",
       "      <td>10.4</td>\n",
       "    </tr>\n",
       "    <tr>\n",
       "      <td>6</td>\n",
       "      <td>Пермь</td>\n",
       "      <td>9.6</td>\n",
       "    </tr>\n",
       "    <tr>\n",
       "      <td>5</td>\n",
       "      <td>Ростов-на-Дону</td>\n",
       "      <td>9.0</td>\n",
       "    </tr>\n",
       "    <tr>\n",
       "      <td>4</td>\n",
       "      <td>Екатеринбург</td>\n",
       "      <td>7.7</td>\n",
       "    </tr>\n",
       "    <tr>\n",
       "      <td>13</td>\n",
       "      <td>Казань</td>\n",
       "      <td>6.2</td>\n",
       "    </tr>\n",
       "    <tr>\n",
       "      <td>1</td>\n",
       "      <td>Санкт-Петербург</td>\n",
       "      <td>5.8</td>\n",
       "    </tr>\n",
       "    <tr>\n",
       "      <td>17</td>\n",
       "      <td>Уфа</td>\n",
       "      <td>5.6</td>\n",
       "    </tr>\n",
       "    <tr>\n",
       "      <td>15</td>\n",
       "      <td>Челябинск</td>\n",
       "      <td>5.6</td>\n",
       "    </tr>\n",
       "    <tr>\n",
       "      <td>25</td>\n",
       "      <td>Волгоград</td>\n",
       "      <td>5.1</td>\n",
       "    </tr>\n",
       "    <tr>\n",
       "      <td>22</td>\n",
       "      <td>Нижний Новгород</td>\n",
       "      <td>4.7</td>\n",
       "    </tr>\n",
       "    <tr>\n",
       "      <td>41</td>\n",
       "      <td>Омск</td>\n",
       "      <td>2.8</td>\n",
       "    </tr>\n",
       "    <tr>\n",
       "      <td>45</td>\n",
       "      <td>Самара</td>\n",
       "      <td>2.6</td>\n",
       "    </tr>\n",
       "    <tr>\n",
       "      <td>59</td>\n",
       "      <td>Воронеж</td>\n",
       "      <td>1.9</td>\n",
       "    </tr>\n",
       "  </tbody>\n",
       "</table>\n",
       "</div>"
      ],
      "text/plain": [
       "               city  flights_per_mln\n",
       "2       Новосибирск             10.7\n",
       "3        Красноярск             10.6\n",
       "0            Москва             10.4\n",
       "6             Пермь              9.6\n",
       "5    Ростов-на-Дону              9.0\n",
       "4      Екатеринбург              7.7\n",
       "13           Казань              6.2\n",
       "1   Санкт-Петербург              5.8\n",
       "17              Уфа              5.6\n",
       "15        Челябинск              5.6\n",
       "25        Волгоград              5.1\n",
       "22  Нижний Новгород              4.7\n",
       "41             Омск              2.8\n",
       "45           Самара              2.6\n",
       "59          Воронеж              1.9"
      ]
     },
     "execution_count": 31,
     "metadata": {},
     "output_type": "execute_result"
    }
   ],
   "source": [
    "# Создадим столбец flights_per_mln, который показывает количество прилетов в день на 1 млн человек населения\n",
    "# для крупных городов с населенем более 1 млн чел\n",
    "city_end_mln = city_end.query('population_2018_mln >= 1')\n",
    "city_end_mln['flights_per_mln'] = city_end_mln['average_flights'] /city_end_mln['population_2018_mln'] \n",
    "city_end_mln = city_end_mln.sort_values(by ='flights_per_mln', ascending = False)\n",
    "print('Количество прилетов в день на 1 млн человек населения городов-миллионников')\n",
    "city_end_mln[['city' , 'flights_per_mln']]"
   ]
  },
  {
   "cell_type": "markdown",
   "id": "ffce974f",
   "metadata": {},
   "source": [
    "В крупных городах с населением более 1 млн.человек наибольшее количество рейсов за день в августе 2018 года относительно 1млн человек было в Новосибирске и Красноярске, на третьем месте - Москва. \n",
    "\n",
    "Вероятно, в этих городах наиболее загруженные аэропорты. Наименьшее кол-во рейсов на 1 млн.чл — в Воронеже и Самаре. "
   ]
  },
  {
   "cell_type": "markdown",
   "id": "4b72dbb1",
   "metadata": {},
   "source": [
    "## Вывод\n",
    "\n",
    "В ходе работы были изучены данные о перелетах авиакомпании и применяемых моделях самолетов в августе-сентябре 2018 года.\n",
    "\n",
    "По количеству рейсов выбраны топ-10 городов:\n",
    "Москва, Санкт-Петербург, Новосибирск, Красноярск, Екатеринбург, Ростов-на-Дону, Пермь, Брянск, Сочи, Ульяновск.\n",
    "\n",
    "Исследования количества перелетов в день в августе 2018 показали, что в среднем в день в Москву прибывает наибольшее количество рейсов, 130 шт. — почти четверть всех рейсов в день по России. \n",
    "Медианное значение рейсов по всем городам — 3шт. \n",
    "По другим городам значение прилетов в день колеблется, в основном, от 2 до 6.\n",
    "\n",
    "Было проведено сравнение количества перелетов в день относительно количества жителей в городах-миллионниках. В крупных городах с населением более 1 млн.человек наибольшее количество рейсов за день в августе 2018 года относительно 1млн.чл населения было в Новосибирске и Красноярске, на третьем месте - Москва (около 11 прилетов на 1млн.чл). Наименьшее - в Воронеже и Самаре (около 2 прилетов на 1млн.чл). \n",
    "\n",
    "\n",
    "В сентябре 2018 наибольшее количество рейсов выполняли бизнес-джеты Cessna 208 Caravan (на первом месте), Bombardier CRJ-200, Sukhoi SuperJet-100, опережая Airbus и Boeing. \n",
    "В сумме три бизнес-джета проводили в 4 раза больше перелетов, чем суммарное значение рейсов по моделям Airbus и Boeing, которые служат для регулярных пассажирских авиаперевозок."
   ]
  }
 ],
 "metadata": {
  "ExecuteTimeLog": [
   {
    "duration": 2062,
    "start_time": "2021-07-25T18:51:01.986Z"
   },
   {
    "duration": 38,
    "start_time": "2021-07-25T18:51:04.051Z"
   },
   {
    "duration": 8,
    "start_time": "2021-07-25T18:51:04.093Z"
   },
   {
    "duration": 10,
    "start_time": "2021-07-25T18:51:04.104Z"
   },
   {
    "duration": 24,
    "start_time": "2021-07-25T18:51:04.117Z"
   },
   {
    "duration": 18,
    "start_time": "2021-07-25T18:51:04.144Z"
   },
   {
    "duration": 8,
    "start_time": "2021-07-25T18:51:04.165Z"
   },
   {
    "duration": 11,
    "start_time": "2021-07-25T18:51:04.176Z"
   },
   {
    "duration": 5,
    "start_time": "2021-07-25T18:51:04.190Z"
   },
   {
    "duration": 13,
    "start_time": "2021-07-25T18:51:04.198Z"
   },
   {
    "duration": 52,
    "start_time": "2021-07-25T18:51:04.213Z"
   },
   {
    "duration": 8,
    "start_time": "2021-07-25T18:51:04.267Z"
   },
   {
    "duration": 403,
    "start_time": "2021-07-25T18:51:04.277Z"
   },
   {
    "duration": 11,
    "start_time": "2021-07-25T18:51:04.684Z"
   },
   {
    "duration": 11,
    "start_time": "2021-07-25T18:51:04.697Z"
   },
   {
    "duration": 1834,
    "start_time": "2021-07-25T18:51:04.710Z"
   },
   {
    "duration": 19,
    "start_time": "2021-07-25T18:51:06.547Z"
   },
   {
    "duration": 21,
    "start_time": "2021-07-25T18:51:06.569Z"
   },
   {
    "duration": 723,
    "start_time": "2021-07-25T18:51:06.593Z"
   },
   {
    "duration": 8,
    "start_time": "2021-07-25T18:51:07.319Z"
   },
   {
    "duration": 450,
    "start_time": "2021-07-25T18:51:07.329Z"
   },
   {
    "duration": 663,
    "start_time": "2021-07-25T18:51:07.782Z"
   },
   {
    "duration": 798,
    "start_time": "2021-07-25T18:51:08.447Z"
   },
   {
    "duration": 16,
    "start_time": "2021-07-25T18:51:09.248Z"
   },
   {
    "duration": 12,
    "start_time": "2021-07-25T18:51:09.266Z"
   },
   {
    "duration": 44,
    "start_time": "2021-07-25T18:51:09.281Z"
   },
   {
    "duration": 46,
    "start_time": "2021-07-25T18:51:09.330Z"
   },
   {
    "duration": 24,
    "start_time": "2021-07-25T18:51:09.378Z"
   },
   {
    "duration": 34,
    "start_time": "2021-07-25T18:51:09.405Z"
   },
   {
    "duration": 19,
    "start_time": "2021-07-25T18:51:09.457Z"
   },
   {
    "duration": 19,
    "start_time": "2021-07-25T18:51:09.478Z"
   },
   {
    "duration": 93,
    "start_time": "2021-07-25T22:24:12.509Z"
   },
   {
    "duration": 369,
    "start_time": "2021-07-25T22:25:52.544Z"
   },
   {
    "duration": 2327,
    "start_time": "2021-07-25T22:26:01.752Z"
   },
   {
    "duration": 35,
    "start_time": "2021-07-25T22:26:04.082Z"
   },
   {
    "duration": 11,
    "start_time": "2021-07-25T22:26:04.120Z"
   },
   {
    "duration": 22,
    "start_time": "2021-07-25T22:26:04.134Z"
   },
   {
    "duration": 31,
    "start_time": "2021-07-25T22:26:04.158Z"
   },
   {
    "duration": 8,
    "start_time": "2021-07-25T22:26:04.192Z"
   },
   {
    "duration": 15,
    "start_time": "2021-07-25T22:26:04.203Z"
   },
   {
    "duration": 16,
    "start_time": "2021-07-25T22:26:04.222Z"
   },
   {
    "duration": 23,
    "start_time": "2021-07-25T22:26:04.241Z"
   },
   {
    "duration": 23,
    "start_time": "2021-07-25T22:26:04.266Z"
   },
   {
    "duration": 27,
    "start_time": "2021-07-25T22:26:04.292Z"
   },
   {
    "duration": 12,
    "start_time": "2021-07-25T22:26:04.322Z"
   },
   {
    "duration": 399,
    "start_time": "2021-07-25T22:26:04.337Z"
   },
   {
    "duration": 12,
    "start_time": "2021-07-25T22:26:04.738Z"
   },
   {
    "duration": 9,
    "start_time": "2021-07-25T22:26:04.753Z"
   },
   {
    "duration": 1786,
    "start_time": "2021-07-25T22:26:04.765Z"
   },
   {
    "duration": 10,
    "start_time": "2021-07-25T22:26:06.553Z"
   },
   {
    "duration": 35,
    "start_time": "2021-07-25T22:26:06.566Z"
   },
   {
    "duration": 806,
    "start_time": "2021-07-25T22:26:06.604Z"
   },
   {
    "duration": 9,
    "start_time": "2021-07-25T22:26:07.413Z"
   },
   {
    "duration": 450,
    "start_time": "2021-07-25T22:26:07.425Z"
   },
   {
    "duration": 641,
    "start_time": "2021-07-25T22:26:07.878Z"
   },
   {
    "duration": 848,
    "start_time": "2021-07-25T22:26:08.524Z"
   },
   {
    "duration": 21,
    "start_time": "2021-07-25T22:26:09.375Z"
   },
   {
    "duration": 11,
    "start_time": "2021-07-25T22:26:09.398Z"
   },
   {
    "duration": 47,
    "start_time": "2021-07-25T22:26:09.411Z"
   },
   {
    "duration": 45,
    "start_time": "2021-07-25T22:26:09.461Z"
   },
   {
    "duration": 16,
    "start_time": "2021-07-25T22:26:09.508Z"
   },
   {
    "duration": 28,
    "start_time": "2021-07-25T22:26:09.526Z"
   },
   {
    "duration": 44,
    "start_time": "2021-07-25T22:26:09.557Z"
   },
   {
    "duration": 20,
    "start_time": "2021-07-25T22:26:09.604Z"
   },
   {
    "duration": 16,
    "start_time": "2021-07-25T22:31:20.257Z"
   },
   {
    "duration": 16,
    "start_time": "2021-07-25T22:31:40.502Z"
   }
  ],
  "kernelspec": {
   "display_name": "Python 3",
   "language": "python",
   "name": "python3"
  },
  "language_info": {
   "codemirror_mode": {
    "name": "ipython",
    "version": 3
   },
   "file_extension": ".py",
   "mimetype": "text/x-python",
   "name": "python",
   "nbconvert_exporter": "python",
   "pygments_lexer": "ipython3",
   "version": "3.7.10"
  },
  "toc": {
   "base_numbering": 1,
   "nav_menu": {},
   "number_sections": true,
   "sideBar": true,
   "skip_h1_title": true,
   "title_cell": "Table of Contents",
   "title_sidebar": "Contents",
   "toc_cell": false,
   "toc_position": {},
   "toc_section_display": true,
   "toc_window_display": false
  }
 },
 "nbformat": 4,
 "nbformat_minor": 5
}
